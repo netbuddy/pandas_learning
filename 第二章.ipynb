{
 "cells": [
  {
   "cell_type": "markdown",
   "metadata": {},
   "source": [
    "### 1. 问题\n",
    "#### 【问题一】 如何更改列或行的顺序？如何交换奇偶行（列）的顺序？"
   ]
  },
  {
   "cell_type": "code",
   "execution_count": 42,
   "metadata": {},
   "outputs": [
    {
     "data": {
      "text/html": [
       "<div>\n",
       "<style scoped>\n",
       "    .dataframe tbody tr th:only-of-type {\n",
       "        vertical-align: middle;\n",
       "    }\n",
       "\n",
       "    .dataframe tbody tr th {\n",
       "        vertical-align: top;\n",
       "    }\n",
       "\n",
       "    .dataframe thead th {\n",
       "        text-align: right;\n",
       "    }\n",
       "</style>\n",
       "<table border=\"1\" class=\"dataframe\">\n",
       "  <thead>\n",
       "    <tr style=\"text-align: right;\">\n",
       "      <th></th>\n",
       "      <th>A</th>\n",
       "      <th>D</th>\n",
       "      <th>B</th>\n",
       "      <th>C</th>\n",
       "      <th>E</th>\n",
       "    </tr>\n",
       "  </thead>\n",
       "  <tbody>\n",
       "    <tr>\n",
       "      <th>a</th>\n",
       "      <td>11</td>\n",
       "      <td>41</td>\n",
       "      <td>21</td>\n",
       "      <td>31</td>\n",
       "      <td>51</td>\n",
       "    </tr>\n",
       "    <tr>\n",
       "      <th>b</th>\n",
       "      <td>12</td>\n",
       "      <td>42</td>\n",
       "      <td>22</td>\n",
       "      <td>32</td>\n",
       "      <td>52</td>\n",
       "    </tr>\n",
       "    <tr>\n",
       "      <th>c</th>\n",
       "      <td>13</td>\n",
       "      <td>43</td>\n",
       "      <td>23</td>\n",
       "      <td>33</td>\n",
       "      <td>53</td>\n",
       "    </tr>\n",
       "    <tr>\n",
       "      <th>d</th>\n",
       "      <td>14</td>\n",
       "      <td>44</td>\n",
       "      <td>24</td>\n",
       "      <td>34</td>\n",
       "      <td>54</td>\n",
       "    </tr>\n",
       "    <tr>\n",
       "      <th>e</th>\n",
       "      <td>15</td>\n",
       "      <td>45</td>\n",
       "      <td>25</td>\n",
       "      <td>35</td>\n",
       "      <td>55</td>\n",
       "    </tr>\n",
       "  </tbody>\n",
       "</table>\n",
       "</div>"
      ],
      "text/plain": [
       "    A   D   B   C   E\n",
       "a  11  41  21  31  51\n",
       "b  12  42  22  32  52\n",
       "c  13  43  23  33  53\n",
       "d  14  44  24  34  54\n",
       "e  15  45  25  35  55"
      ]
     },
     "execution_count": 42,
     "metadata": {},
     "output_type": "execute_result"
    }
   ],
   "source": [
    "import pandas as pd\n",
    "import numpy as np\n",
    "\n",
    "df = pd.DataFrame({'A':np.arange(11,16),'B':np.arange(21,26),'C':np.arange(31,36),'D':np.arange(41,46),\n",
    "                   'E':np.arange(51,56)}, index=list('abcde'))\n",
    "#交换行a和b的顺序\n",
    "df.reindex(['b','a','c','d','e'])\n",
    "#交换列A和B的顺序\n",
    "df.reindex(columns=['B','A','C','D','E'])\n",
    "#将列D置于位置1\n",
    "df.insert(loc=1, column='D', value=df.pop('D'))\n",
    "df"
   ]
  },
  {
   "cell_type": "markdown",
   "metadata": {},
   "source": [
    "#### 【问题二】 如果要选出DataFrame的某个子集，请给出尽可能多的方法实现。"
   ]
  },
  {
   "cell_type": "code",
   "execution_count": 64,
   "metadata": {},
   "outputs": [
    {
     "name": "stdout",
     "output_type": "stream",
     "text": [
      "33\n"
     ]
    },
    {
     "data": {
      "text/html": [
       "<div>\n",
       "<style scoped>\n",
       "    .dataframe tbody tr th:only-of-type {\n",
       "        vertical-align: middle;\n",
       "    }\n",
       "\n",
       "    .dataframe tbody tr th {\n",
       "        vertical-align: top;\n",
       "    }\n",
       "\n",
       "    .dataframe thead th {\n",
       "        text-align: right;\n",
       "    }\n",
       "</style>\n",
       "<table border=\"1\" class=\"dataframe\">\n",
       "  <thead>\n",
       "    <tr style=\"text-align: right;\">\n",
       "      <th></th>\n",
       "      <th>C</th>\n",
       "      <th>E</th>\n",
       "    </tr>\n",
       "  </thead>\n",
       "  <tbody>\n",
       "    <tr>\n",
       "      <th>a</th>\n",
       "      <td>31</td>\n",
       "      <td>51</td>\n",
       "    </tr>\n",
       "    <tr>\n",
       "      <th>b</th>\n",
       "      <td>32</td>\n",
       "      <td>52</td>\n",
       "    </tr>\n",
       "    <tr>\n",
       "      <th>c</th>\n",
       "      <td>33</td>\n",
       "      <td>53</td>\n",
       "    </tr>\n",
       "    <tr>\n",
       "      <th>d</th>\n",
       "      <td>34</td>\n",
       "      <td>54</td>\n",
       "    </tr>\n",
       "    <tr>\n",
       "      <th>e</th>\n",
       "      <td>35</td>\n",
       "      <td>55</td>\n",
       "    </tr>\n",
       "  </tbody>\n",
       "</table>\n",
       "</div>"
      ],
      "text/plain": [
       "    C   E\n",
       "a  31  51\n",
       "b  32  52\n",
       "c  33  53\n",
       "d  34  54\n",
       "e  35  55"
      ]
     },
     "execution_count": 64,
     "metadata": {},
     "output_type": "execute_result"
    }
   ],
   "source": [
    "import pandas as pd\n",
    "import numpy as np\n",
    "\n",
    "df = pd.DataFrame({'A':np.arange(11,16),'B':np.arange(21,26),'C':np.arange(31,36),'D':np.arange(41,46),\n",
    "                   'E':np.arange(51,56)}, index=list('abcde'))\n",
    "#取出第2行\n",
    "df.iloc[1]\n",
    "\n",
    "#取出2-4行\n",
    "df.iloc[1:4]\n",
    "\n",
    "#取出第2列\n",
    "df.iloc[:, 1]\n",
    "\n",
    "#取出2-4列\n",
    "df.iloc[:, 1:4]\n",
    "\n",
    "#取出label='c'的行\n",
    "df.loc['c']\n",
    "\n",
    "#取出label='c'、'e'的行\n",
    "df.loc[['c', 'e']]\n",
    "\n",
    "#取出label='C'的列\n",
    "df.loc[:, 'C']\n",
    "df['C']\n",
    "\n",
    "#取出label='C'、'E'的列\n",
    "df.loc[:, ['C', 'E']]\n",
    "df[['C', 'E']]"
   ]
  },
  {
   "cell_type": "markdown",
   "metadata": {},
   "source": [
    "#### 【问题三】 query函数比其他索引方法的速度更慢吗？在什么场合使用什么索引最高效？"
   ]
  },
  {
   "cell_type": "code",
   "execution_count": 84,
   "metadata": {},
   "outputs": [
    {
     "name": "stdout",
     "output_type": "stream",
     "text": [
      "842 µs ± 2.66 µs per loop (mean ± std. dev. of 7 runs, 1000 loops each)\n",
      "3.45 ms ± 91.9 µs per loop (mean ± std. dev. of 7 runs, 100 loops each)\n"
     ]
    }
   ],
   "source": [
    "import pandas as pd\n",
    "import numpy as np\n",
    "\n",
    "df = pd.read_csv(\"data/Company_data.csv\", index_col='日期', parse_dates=['日期'])\n",
    "%timeit df[df['证券代码']==300001]\n",
    "%timeit df.query('证券代码==300001')"
   ]
  },
  {
   "cell_type": "markdown",
   "metadata": {},
   "source": [
    "#### 【问题四】 单级索引能使用Slice对象吗？能的话怎么使用，请给出一个例子。"
   ]
  },
  {
   "cell_type": "code",
   "execution_count": 85,
   "metadata": {},
   "outputs": [
    {
     "data": {
      "text/html": [
       "<div>\n",
       "<style scoped>\n",
       "    .dataframe tbody tr th:only-of-type {\n",
       "        vertical-align: middle;\n",
       "    }\n",
       "\n",
       "    .dataframe tbody tr th {\n",
       "        vertical-align: top;\n",
       "    }\n",
       "\n",
       "    .dataframe thead th {\n",
       "        text-align: right;\n",
       "    }\n",
       "</style>\n",
       "<table border=\"1\" class=\"dataframe\">\n",
       "  <thead>\n",
       "    <tr style=\"text-align: right;\">\n",
       "      <th></th>\n",
       "      <th>证券代码</th>\n",
       "      <th>收入类型</th>\n",
       "      <th>收入额</th>\n",
       "    </tr>\n",
       "    <tr>\n",
       "      <th>日期</th>\n",
       "      <th></th>\n",
       "      <th></th>\n",
       "      <th></th>\n",
       "    </tr>\n",
       "  </thead>\n",
       "  <tbody>\n",
       "    <tr>\n",
       "      <th>2011-12-31</th>\n",
       "      <td>1</td>\n",
       "      <td>1</td>\n",
       "      <td>NaN</td>\n",
       "    </tr>\n",
       "    <tr>\n",
       "      <th>2011-12-31</th>\n",
       "      <td>1</td>\n",
       "      <td>2</td>\n",
       "      <td>-1.675391e+09</td>\n",
       "    </tr>\n",
       "    <tr>\n",
       "      <th>2011-12-31</th>\n",
       "      <td>1</td>\n",
       "      <td>3</td>\n",
       "      <td>4.209000e+09</td>\n",
       "    </tr>\n",
       "    <tr>\n",
       "      <th>2011-12-31</th>\n",
       "      <td>1</td>\n",
       "      <td>4</td>\n",
       "      <td>1.156000e+07</td>\n",
       "    </tr>\n",
       "    <tr>\n",
       "      <th>2011-12-31</th>\n",
       "      <td>1</td>\n",
       "      <td>5</td>\n",
       "      <td>2.257000e+09</td>\n",
       "    </tr>\n",
       "    <tr>\n",
       "      <th>...</th>\n",
       "      <td>...</td>\n",
       "      <td>...</td>\n",
       "      <td>...</td>\n",
       "    </tr>\n",
       "    <tr>\n",
       "      <th>2015-12-31</th>\n",
       "      <td>900957</td>\n",
       "      <td>14</td>\n",
       "      <td>0.000000e+00</td>\n",
       "    </tr>\n",
       "    <tr>\n",
       "      <th>2015-12-31</th>\n",
       "      <td>900957</td>\n",
       "      <td>15</td>\n",
       "      <td>1.830678e+07</td>\n",
       "    </tr>\n",
       "    <tr>\n",
       "      <th>2015-12-31</th>\n",
       "      <td>900957</td>\n",
       "      <td>16</td>\n",
       "      <td>0.000000e+00</td>\n",
       "    </tr>\n",
       "    <tr>\n",
       "      <th>2015-12-31</th>\n",
       "      <td>900957</td>\n",
       "      <td>17</td>\n",
       "      <td>0.000000e+00</td>\n",
       "    </tr>\n",
       "    <tr>\n",
       "      <th>2015-12-31</th>\n",
       "      <td>900957</td>\n",
       "      <td>18</td>\n",
       "      <td>1.830678e+07</td>\n",
       "    </tr>\n",
       "  </tbody>\n",
       "</table>\n",
       "<p>625326 rows × 3 columns</p>\n",
       "</div>"
      ],
      "text/plain": [
       "              证券代码  收入类型           收入额\n",
       "日期                                    \n",
       "2011-12-31       1     1           NaN\n",
       "2011-12-31       1     2 -1.675391e+09\n",
       "2011-12-31       1     3  4.209000e+09\n",
       "2011-12-31       1     4  1.156000e+07\n",
       "2011-12-31       1     5  2.257000e+09\n",
       "...            ...   ...           ...\n",
       "2015-12-31  900957    14  0.000000e+00\n",
       "2015-12-31  900957    15  1.830678e+07\n",
       "2015-12-31  900957    16  0.000000e+00\n",
       "2015-12-31  900957    17  0.000000e+00\n",
       "2015-12-31  900957    18  1.830678e+07\n",
       "\n",
       "[625326 rows x 3 columns]"
      ]
     },
     "execution_count": 85,
     "metadata": {},
     "output_type": "execute_result"
    }
   ],
   "source": [
    "import pandas as pd\n",
    "import numpy as np\n",
    "\n",
    "df = pd.read_csv(\"data/Company_data.csv\", index_col='日期', parse_dates=['日期'])\n",
    "df.loc['2011':'2015']"
   ]
  },
  {
   "cell_type": "markdown",
   "metadata": {},
   "source": [
    "#### 【问题五】 如何快速找出某一列的缺失值所在索引？"
   ]
  },
  {
   "cell_type": "code",
   "execution_count": 105,
   "metadata": {},
   "outputs": [
    {
     "data": {
      "text/plain": [
       "['b', 'd']"
      ]
     },
     "execution_count": 105,
     "metadata": {},
     "output_type": "execute_result"
    }
   ],
   "source": [
    "import pandas as pd\n",
    "import numpy as np\n",
    "\n",
    "df = pd.DataFrame({'A':np.arange(11,16),'B':[21,np.nan,23,np.nan,25],'C':np.arange(31,36),'D':np.arange(41,46),\n",
    "                   'E':np.arange(51,56)}, index=list('abcde'))\n",
    "list(set(df['B'].index) - set(df['B'].dropna().index))"
   ]
  },
  {
   "cell_type": "markdown",
   "metadata": {},
   "source": [
    "#### 【问题六】 索引设定中的所有方法分别适用于哪些场合？怎么直接把某个DataFrame的索引换成任意给定同长度的索引？"
   ]
  },
  {
   "cell_type": "code",
   "execution_count": 3,
   "metadata": {},
   "outputs": [
    {
     "data": {
      "text/html": [
       "<div>\n",
       "<style scoped>\n",
       "    .dataframe tbody tr th:only-of-type {\n",
       "        vertical-align: middle;\n",
       "    }\n",
       "\n",
       "    .dataframe tbody tr th {\n",
       "        vertical-align: top;\n",
       "    }\n",
       "\n",
       "    .dataframe thead th {\n",
       "        text-align: right;\n",
       "    }\n",
       "</style>\n",
       "<table border=\"1\" class=\"dataframe\">\n",
       "  <thead>\n",
       "    <tr style=\"text-align: right;\">\n",
       "      <th></th>\n",
       "      <th>A</th>\n",
       "      <th>B</th>\n",
       "      <th>C</th>\n",
       "      <th>D</th>\n",
       "      <th>E</th>\n",
       "    </tr>\n",
       "  </thead>\n",
       "  <tbody>\n",
       "    <tr>\n",
       "      <th>a1</th>\n",
       "      <td>11</td>\n",
       "      <td>21.0</td>\n",
       "      <td>31</td>\n",
       "      <td>41</td>\n",
       "      <td>51</td>\n",
       "    </tr>\n",
       "    <tr>\n",
       "      <th>b1</th>\n",
       "      <td>12</td>\n",
       "      <td>NaN</td>\n",
       "      <td>32</td>\n",
       "      <td>42</td>\n",
       "      <td>52</td>\n",
       "    </tr>\n",
       "    <tr>\n",
       "      <th>c1</th>\n",
       "      <td>13</td>\n",
       "      <td>23.0</td>\n",
       "      <td>33</td>\n",
       "      <td>43</td>\n",
       "      <td>53</td>\n",
       "    </tr>\n",
       "    <tr>\n",
       "      <th>d1</th>\n",
       "      <td>14</td>\n",
       "      <td>NaN</td>\n",
       "      <td>34</td>\n",
       "      <td>44</td>\n",
       "      <td>54</td>\n",
       "    </tr>\n",
       "    <tr>\n",
       "      <th>e1</th>\n",
       "      <td>15</td>\n",
       "      <td>25.0</td>\n",
       "      <td>35</td>\n",
       "      <td>45</td>\n",
       "      <td>55</td>\n",
       "    </tr>\n",
       "  </tbody>\n",
       "</table>\n",
       "</div>"
      ],
      "text/plain": [
       "     A     B   C   D   E\n",
       "a1  11  21.0  31  41  51\n",
       "b1  12   NaN  32  42  52\n",
       "c1  13  23.0  33  43  53\n",
       "d1  14   NaN  34  44  54\n",
       "e1  15  25.0  35  45  55"
      ]
     },
     "execution_count": 3,
     "metadata": {},
     "output_type": "execute_result"
    }
   ],
   "source": [
    "import pandas as pd\n",
    "import numpy as np\n",
    "\n",
    "df = pd.DataFrame({'A':np.arange(11,16),'B':[21,np.nan,23,np.nan,25],'C':np.arange(31,36),'D':np.arange(41,46),\n",
    "                   'E':np.arange(51,56)}, index=list('abcde'))\n",
    "df.set_index(np.array(['a1', 'b1', 'c1', 'd1', 'e1']))"
   ]
  },
  {
   "cell_type": "markdown",
   "metadata": {},
   "source": [
    "#### 【问题七】 多级索引有什么适用场合？"
   ]
  },
  {
   "cell_type": "code",
   "execution_count": 15,
   "metadata": {},
   "outputs": [
    {
     "name": "stdout",
     "output_type": "stream",
     "text": [
      "School  Class\n",
      "S_1     C_1      63.78\n",
      "        C_2      64.30\n",
      "        C_3      63.16\n",
      "S_2     C_1      58.56\n",
      "        C_2      62.80\n",
      "        C_3      63.06\n",
      "        C_4      53.80\n",
      "Name: Math, dtype: float64\n",
      "School  Class\n",
      "S_1     C_1      63.78\n",
      "        C_2      64.30\n",
      "        C_3      63.16\n",
      "S_2     C_1      58.56\n",
      "        C_2      62.80\n",
      "        C_3      63.06\n",
      "        C_4      53.80\n",
      "Name: Math, dtype: float64\n"
     ]
    }
   ],
   "source": [
    "#多级索引可以部分替代groupby的分组聚合处理功能\n",
    "import numpy as np\n",
    "import pandas as pd\n",
    "df = pd.read_csv('data/table.csv',index_col='ID')\n",
    "df\n",
    "#计算各个班级的数学平均成绩\n",
    "#方法1：groupby\n",
    "print(df.groupby(['School', 'Class'])['Math'].mean())\n",
    "#方法2：multiindex\n",
    "df_using_mul = df.set_index(['School','Class'])\n",
    "print(df_using_mul['Math'].mean(level=['School', 'Class']))"
   ]
  },
  {
   "cell_type": "markdown",
   "metadata": {},
   "source": [
    "#### 【问题八】 什么时候需要重复元素处理？"
   ]
  },
  {
   "cell_type": "code",
   "execution_count": null,
   "metadata": {},
   "outputs": [],
   "source": []
  },
  {
   "cell_type": "markdown",
   "metadata": {},
   "source": [
    "### 2. 练习\n",
    "#### 【练习一】 现有一份关于UFO的数据集，请解决下列问题：\n",
    "#### （a）在所有被观测时间超过60s的时间中，哪个形状最多？"
   ]
  },
  {
   "cell_type": "code",
   "execution_count": 20,
   "metadata": {},
   "outputs": [
    {
     "data": {
      "text/plain": [
       "'light'"
      ]
     },
     "execution_count": 20,
     "metadata": {},
     "output_type": "execute_result"
    }
   ],
   "source": [
    "df = pd.read_csv('data/UFO.csv')\n",
    "df[df['duration (seconds)'] > 60]['shape'].value_counts().index[0]"
   ]
  },
  {
   "cell_type": "markdown",
   "metadata": {},
   "source": [
    "#### （b）对经纬度进行划分：-180°至180°以30°为一个划分，-90°至90°以18°为一个划分，请问哪个区域中报告的UFO事件数量最多？"
   ]
  },
  {
   "cell_type": "code",
   "execution_count": 50,
   "metadata": {},
   "outputs": [
    {
     "data": {
      "text/plain": [
       "((-90.0, -60.0], (36.0, 54.0])      27891\n",
       "((-120.0, -90.0], (18.0, 36.0])     14280\n",
       "((-120.0, -90.0], (36.0, 54.0])     11960\n",
       "((-90.0, -60.0], (18.0, 36.0])       9923\n",
       "((-150.0, -120.0], (36.0, 54.0])     9658\n",
       "dtype: int64"
      ]
     },
     "execution_count": 50,
     "metadata": {},
     "output_type": "execute_result"
    }
   ],
   "source": [
    "longitude_interval = pd.cut(df['longitude'], bins=np.linspace(-180,180,13))\n",
    "latitude_interval = pd.cut(df['latitude'], bins=np.linspace(-90,90,11))\n",
    "df1 = df.join(longitude_interval, rsuffix='_interval').join(latitude_interval, rsuffix='_interval')\n",
    "df1.set_index(['longitude_interval', 'latitude_interval']).index.value_counts().head()"
   ]
  },
  {
   "cell_type": "markdown",
   "metadata": {},
   "source": [
    "#### 【练习二】 现有一份关于口袋妖怪的数据集，请解决下列问题：\n",
    "#### （a）双属性的Pokemon占总体比例的多少？"
   ]
  },
  {
   "cell_type": "code",
   "execution_count": 79,
   "metadata": {},
   "outputs": [
    {
     "data": {
      "text/plain": [
       "0.5175"
      ]
     },
     "execution_count": 79,
     "metadata": {},
     "output_type": "execute_result"
    }
   ],
   "source": [
    "df = pd.read_csv('data/Pokemon.csv')\n",
    "#方法1\n",
    "df[~df['Type 2'].isna()].shape[0] / df.shape[0]\n",
    "#方法2\n",
    "df['Type 2'].count() / df.shape[0]"
   ]
  },
  {
   "cell_type": "markdown",
   "metadata": {},
   "source": [
    "#### （b）在所有种族值（Total）不小于580的Pokemon中，非神兽（Legendary=False）的比例为多少？"
   ]
  },
  {
   "cell_type": "code",
   "execution_count": 85,
   "metadata": {},
   "outputs": [
    {
     "data": {
      "text/plain": [
       "True     0.575221\n",
       "False    0.424779\n",
       "Name: Legendary, dtype: float64"
      ]
     },
     "execution_count": 85,
     "metadata": {},
     "output_type": "execute_result"
    }
   ],
   "source": [
    "df[df['Total'] >= 580]['Legendary'].value_counts(normalize=True)"
   ]
  },
  {
   "cell_type": "markdown",
   "metadata": {},
   "source": [
    "#### （c）在第一属性为格斗系（Fighting）的Pokemon中，物攻排名前三高的是哪些？"
   ]
  },
  {
   "cell_type": "code",
   "execution_count": 99,
   "metadata": {},
   "outputs": [
    {
     "data": {
      "text/html": [
       "<div>\n",
       "<style scoped>\n",
       "    .dataframe tbody tr th:only-of-type {\n",
       "        vertical-align: middle;\n",
       "    }\n",
       "\n",
       "    .dataframe tbody tr th {\n",
       "        vertical-align: top;\n",
       "    }\n",
       "\n",
       "    .dataframe thead th {\n",
       "        text-align: right;\n",
       "    }\n",
       "</style>\n",
       "<table border=\"1\" class=\"dataframe\">\n",
       "  <thead>\n",
       "    <tr style=\"text-align: right;\">\n",
       "      <th></th>\n",
       "      <th>#</th>\n",
       "      <th>Name</th>\n",
       "      <th>Type 1</th>\n",
       "      <th>Type 2</th>\n",
       "      <th>Total</th>\n",
       "      <th>HP</th>\n",
       "      <th>Attack</th>\n",
       "      <th>Defense</th>\n",
       "      <th>Sp. Atk</th>\n",
       "      <th>Sp. Def</th>\n",
       "      <th>Speed</th>\n",
       "      <th>Generation</th>\n",
       "      <th>Legendary</th>\n",
       "    </tr>\n",
       "  </thead>\n",
       "  <tbody>\n",
       "    <tr>\n",
       "      <th>498</th>\n",
       "      <td>448</td>\n",
       "      <td>LucarioMega Lucario</td>\n",
       "      <td>Fighting</td>\n",
       "      <td>Steel</td>\n",
       "      <td>625</td>\n",
       "      <td>70</td>\n",
       "      <td>145</td>\n",
       "      <td>88</td>\n",
       "      <td>140</td>\n",
       "      <td>70</td>\n",
       "      <td>112</td>\n",
       "      <td>4</td>\n",
       "      <td>False</td>\n",
       "    </tr>\n",
       "    <tr>\n",
       "      <th>594</th>\n",
       "      <td>534</td>\n",
       "      <td>Conkeldurr</td>\n",
       "      <td>Fighting</td>\n",
       "      <td>NaN</td>\n",
       "      <td>505</td>\n",
       "      <td>105</td>\n",
       "      <td>140</td>\n",
       "      <td>95</td>\n",
       "      <td>55</td>\n",
       "      <td>65</td>\n",
       "      <td>45</td>\n",
       "      <td>5</td>\n",
       "      <td>False</td>\n",
       "    </tr>\n",
       "    <tr>\n",
       "      <th>74</th>\n",
       "      <td>68</td>\n",
       "      <td>Machamp</td>\n",
       "      <td>Fighting</td>\n",
       "      <td>NaN</td>\n",
       "      <td>505</td>\n",
       "      <td>90</td>\n",
       "      <td>130</td>\n",
       "      <td>80</td>\n",
       "      <td>65</td>\n",
       "      <td>85</td>\n",
       "      <td>55</td>\n",
       "      <td>1</td>\n",
       "      <td>False</td>\n",
       "    </tr>\n",
       "  </tbody>\n",
       "</table>\n",
       "</div>"
      ],
      "text/plain": [
       "       #                 Name    Type 1 Type 2  Total   HP  Attack  Defense  \\\n",
       "498  448  LucarioMega Lucario  Fighting  Steel    625   70     145       88   \n",
       "594  534           Conkeldurr  Fighting    NaN    505  105     140       95   \n",
       "74    68              Machamp  Fighting    NaN    505   90     130       80   \n",
       "\n",
       "     Sp. Atk  Sp. Def  Speed  Generation  Legendary  \n",
       "498      140       70    112           4      False  \n",
       "594       55       65     45           5      False  \n",
       "74        65       85     55           1      False  "
      ]
     },
     "execution_count": 99,
     "metadata": {},
     "output_type": "execute_result"
    }
   ],
   "source": [
    "df[df['Type 1'] == 'Fighting'].sort_values(by='Attack', ascending=False).iloc[:3]"
   ]
  },
  {
   "cell_type": "markdown",
   "metadata": {},
   "source": [
    "#### （d）请问六项种族指标（HP、物攻、特攻、物防、特防、速度）极差的均值最大的是哪个属性（只考虑第一属性，且均值是对属性而言）？"
   ]
  },
  {
   "cell_type": "code",
   "execution_count": 111,
   "metadata": {},
   "outputs": [
    {
     "data": {
      "text/plain": [
       "'Steel'"
      ]
     },
     "execution_count": 111,
     "metadata": {},
     "output_type": "execute_result"
    }
   ],
   "source": [
    "df['range'] = df.loc[:, 'HP':'Speed'].max(axis=1) - df.loc[:, 'HP':'Speed'].min(axis=1)\n",
    "df.groupby('Type 1')['range'].mean().idxmax()"
   ]
  },
  {
   "cell_type": "markdown",
   "metadata": {},
   "source": [
    "#### （e）哪个属性（只考虑第一属性）的神兽比例最高？该属性神兽的种族值也是最高的吗？"
   ]
  },
  {
   "cell_type": "code",
   "execution_count": 175,
   "metadata": {},
   "outputs": [
    {
     "name": "stdout",
     "output_type": "stream",
     "text": [
      "Flying\n"
     ]
    },
    {
     "data": {
      "text/plain": [
       "'Normal'"
      ]
     },
     "execution_count": 175,
     "metadata": {},
     "output_type": "execute_result"
    }
   ],
   "source": [
    "def count_legendary(s):\n",
    "    return(s[s.values == True].count() / s.count())\n",
    "    \n",
    "print(df.groupby('Type 1')['Legendary'].apply(count_legendary).idxmax())\n",
    "df.query('Legendary == True').groupby('Type 1')['Total'].mean().idxmax()"
   ]
  }
 ],
 "metadata": {
  "kernelspec": {
   "display_name": "Python 3",
   "language": "python",
   "name": "python3"
  },
  "language_info": {
   "codemirror_mode": {
    "name": "ipython",
    "version": 3
   },
   "file_extension": ".py",
   "mimetype": "text/x-python",
   "name": "python",
   "nbconvert_exporter": "python",
   "pygments_lexer": "ipython3",
   "version": "3.7.6"
  }
 },
 "nbformat": 4,
 "nbformat_minor": 4
}
